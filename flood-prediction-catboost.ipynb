{
 "cells": [
  {
   "cell_type": "code",
   "execution_count": 1,
   "id": "508c044e",
   "metadata": {
    "_cell_guid": "b1076dfc-b9ad-4769-8c92-a6c4dae69d19",
    "_uuid": "8f2839f25d086af736a60e9eeb907d3b93b6e0e5",
    "execution": {
     "iopub.execute_input": "2024-05-30T00:42:58.511560Z",
     "iopub.status.busy": "2024-05-30T00:42:58.510425Z",
     "iopub.status.idle": "2024-05-30T00:43:07.776537Z",
     "shell.execute_reply": "2024-05-30T00:43:07.775468Z"
    },
    "papermill": {
     "duration": 9.276136,
     "end_time": "2024-05-30T00:43:07.778978",
     "exception": false,
     "start_time": "2024-05-30T00:42:58.502842",
     "status": "completed"
    },
    "tags": []
   },
   "outputs": [],
   "source": [
    "import numpy as np\n",
    "import pandas as pd\n",
    "import optuna\n",
    "\n",
    "import matplotlib.pyplot as plt\n",
    "import missingno as msno\n",
    "\n",
    "import lightgbm as lgb\n",
    "import catboost as cb\n",
    "\n",
    "from sklearn.model_selection import train_test_split\n",
    "from sklearn.metrics import r2_score"
   ]
  },
  {
   "cell_type": "code",
   "execution_count": 2,
   "id": "06ce3d76",
   "metadata": {
    "execution": {
     "iopub.execute_input": "2024-05-30T00:43:07.789869Z",
     "iopub.status.busy": "2024-05-30T00:43:07.789575Z",
     "iopub.status.idle": "2024-05-30T00:43:07.793805Z",
     "shell.execute_reply": "2024-05-30T00:43:07.792916Z"
    },
    "papermill": {
     "duration": 0.011849,
     "end_time": "2024-05-30T00:43:07.795811",
     "exception": false,
     "start_time": "2024-05-30T00:43:07.783962",
     "status": "completed"
    },
    "tags": []
   },
   "outputs": [],
   "source": [
    "train_path = '/kaggle/input/playground-series-s4e5/train.csv'\n",
    "test_path = '/kaggle/input/playground-series-s4e5/test.csv'\n",
    "submission_path = '/kaggle/input/playground-series-s4e5/sample_submission.csv'"
   ]
  },
  {
   "cell_type": "code",
   "execution_count": 3,
   "id": "18a8535c",
   "metadata": {
    "execution": {
     "iopub.execute_input": "2024-05-30T00:43:07.806545Z",
     "iopub.status.busy": "2024-05-30T00:43:07.806247Z",
     "iopub.status.idle": "2024-05-30T00:43:12.853035Z",
     "shell.execute_reply": "2024-05-30T00:43:12.851965Z"
    },
    "papermill": {
     "duration": 5.054977,
     "end_time": "2024-05-30T00:43:12.855527",
     "exception": false,
     "start_time": "2024-05-30T00:43:07.800550",
     "status": "completed"
    },
    "tags": []
   },
   "outputs": [],
   "source": [
    "def read_data(path, index_col=None):\n",
    "    df = pd.read_csv(path)\n",
    "    if index_col != None:\n",
    "        df = df.set_index(index_col)\n",
    "    initial_features = list(df.columns)\n",
    "    if 'FloodProbability' in initial_features:\n",
    "        initial_features.remove('FloodProbability')\n",
    "    sorted_features = [f\"sort_{i}\" for i in np.arange(len(initial_features))]\n",
    "    df['fsum'] = df[initial_features].sum(axis=1)\n",
    "    df[sorted_features] = np.sort(df[initial_features], axis=1)\n",
    "    return df\n",
    "\n",
    "train_df = read_data(train_path, 'id')\n",
    "test_df = read_data(test_path, 'id')"
   ]
  },
  {
   "cell_type": "code",
   "execution_count": 4,
   "id": "e83631fa",
   "metadata": {
    "execution": {
     "iopub.execute_input": "2024-05-30T00:43:12.866901Z",
     "iopub.status.busy": "2024-05-30T00:43:12.866570Z",
     "iopub.status.idle": "2024-05-30T00:43:13.733281Z",
     "shell.execute_reply": "2024-05-30T00:43:13.732383Z"
    },
    "papermill": {
     "duration": 0.874976,
     "end_time": "2024-05-30T00:43:13.735842",
     "exception": false,
     "start_time": "2024-05-30T00:43:12.860866",
     "status": "completed"
    },
    "tags": []
   },
   "outputs": [],
   "source": [
    "label = 'FloodProbability'\n",
    "X = train_df.drop(columns=[label])\n",
    "y = train_df[[label]]\n",
    "\n",
    "# Split the data into training and testing sets\n",
    "X_train, X_val, y_train, y_val = train_test_split(X, y, test_size=0.2)"
   ]
  },
  {
   "cell_type": "markdown",
   "id": "3cb09f13",
   "metadata": {
    "papermill": {
     "duration": 0.005208,
     "end_time": "2024-05-30T00:43:13.746522",
     "exception": false,
     "start_time": "2024-05-30T00:43:13.741314",
     "status": "completed"
    },
    "tags": []
   },
   "source": [
    "### LightGBM"
   ]
  },
  {
   "cell_type": "code",
   "execution_count": 5,
   "id": "69d4aa90",
   "metadata": {
    "execution": {
     "iopub.execute_input": "2024-05-30T00:43:13.757980Z",
     "iopub.status.busy": "2024-05-30T00:43:13.757655Z",
     "iopub.status.idle": "2024-05-30T00:43:13.763367Z",
     "shell.execute_reply": "2024-05-30T00:43:13.762458Z"
    },
    "papermill": {
     "duration": 0.01384,
     "end_time": "2024-05-30T00:43:13.765445",
     "exception": false,
     "start_time": "2024-05-30T00:43:13.751605",
     "status": "completed"
    },
    "tags": []
   },
   "outputs": [],
   "source": [
    "lgb_params = {\n",
    "    'boosting_type': 'gbdt', \n",
    "    'n_estimators':1500, \n",
    "    'learning_rate' :  0.012,    \n",
    "    'num_leaves' : 250, \n",
    "    'subsample_for_bin': 165700, \n",
    "    'min_child_samples': 114, \n",
    "    'reg_alpha': 2.075e-06, \n",
    "    'reg_lambda': 3.839e-07, \n",
    "    'colsample_bytree': 0.9634,\n",
    "    'subsample': 0.9592, \n",
    "    'max_depth': 10,\n",
    "    'random_state':0,\n",
    "    'verbosity':-1\n",
    "}\n",
    "num_round = 100"
   ]
  },
  {
   "cell_type": "code",
   "execution_count": 6,
   "id": "6872ed6e",
   "metadata": {
    "execution": {
     "iopub.execute_input": "2024-05-30T00:43:13.775776Z",
     "iopub.status.busy": "2024-05-30T00:43:13.775500Z",
     "iopub.status.idle": "2024-05-30T00:46:57.485249Z",
     "shell.execute_reply": "2024-05-30T00:46:57.484419Z"
    },
    "papermill": {
     "duration": 223.717761,
     "end_time": "2024-05-30T00:46:57.487833",
     "exception": false,
     "start_time": "2024-05-30T00:43:13.770072",
     "status": "completed"
    },
    "tags": []
   },
   "outputs": [
    {
     "name": "stderr",
     "output_type": "stream",
     "text": [
      "/opt/conda/lib/python3.10/site-packages/lightgbm/engine.py:172: UserWarning: Found `n_estimators` in params. Will use it instead of argument\n",
      "  _log_warning(f\"Found `{alias}` in params. Will use it instead of argument\")\n"
     ]
    }
   ],
   "source": [
    "train_data_lgbm = lgb.Dataset(X_train, label=y_train)\n",
    "val_data_lgbm = lgb.Dataset(X_val, label=y_val, reference=train_data_lgbm)\n",
    "\n",
    "lgbm_model = lgb.train(lgb_params, train_data_lgbm, num_round, valid_sets=[val_data_lgbm])"
   ]
  },
  {
   "cell_type": "code",
   "execution_count": 7,
   "id": "310c106c",
   "metadata": {
    "execution": {
     "iopub.execute_input": "2024-05-30T00:46:57.499864Z",
     "iopub.status.busy": "2024-05-30T00:46:57.499058Z",
     "iopub.status.idle": "2024-05-30T00:47:17.634646Z",
     "shell.execute_reply": "2024-05-30T00:47:17.633802Z"
    },
    "papermill": {
     "duration": 20.143676,
     "end_time": "2024-05-30T00:47:17.636748",
     "exception": false,
     "start_time": "2024-05-30T00:46:57.493072",
     "status": "completed"
    },
    "tags": []
   },
   "outputs": [
    {
     "name": "stdout",
     "output_type": "stream",
     "text": [
      "0.8690085569113408\n"
     ]
    }
   ],
   "source": [
    "yhat = lgbm_model.predict(X_val)\n",
    "print(r2_score(y_val, yhat))"
   ]
  },
  {
   "cell_type": "markdown",
   "id": "7d931f6f",
   "metadata": {
    "papermill": {
     "duration": 0.004941,
     "end_time": "2024-05-30T00:47:17.647043",
     "exception": false,
     "start_time": "2024-05-30T00:47:17.642102",
     "status": "completed"
    },
    "tags": []
   },
   "source": [
    "### CatBoost"
   ]
  },
  {
   "cell_type": "code",
   "execution_count": 8,
   "id": "c2c5526b",
   "metadata": {
    "execution": {
     "iopub.execute_input": "2024-05-30T00:47:17.657547Z",
     "iopub.status.busy": "2024-05-30T00:47:17.657243Z",
     "iopub.status.idle": "2024-05-30T00:49:14.306047Z",
     "shell.execute_reply": "2024-05-30T00:49:14.304994Z"
    },
    "papermill": {
     "duration": 116.660787,
     "end_time": "2024-05-30T00:49:14.312405",
     "exception": false,
     "start_time": "2024-05-30T00:47:17.651618",
     "status": "completed"
    },
    "tags": []
   },
   "outputs": [
    {
     "data": {
      "text/plain": [
       "<catboost.core.CatBoostRegressor at 0x7d332dd61ed0>"
      ]
     },
     "execution_count": 8,
     "metadata": {},
     "output_type": "execute_result"
    }
   ],
   "source": [
    "catboost_model = cb.CatBoostRegressor(verbose=0)\n",
    "catboost_model.fit(X_train, y_train)"
   ]
  },
  {
   "cell_type": "code",
   "execution_count": 9,
   "id": "169485b3",
   "metadata": {
    "execution": {
     "iopub.execute_input": "2024-05-30T00:49:14.324392Z",
     "iopub.status.busy": "2024-05-30T00:49:14.323988Z",
     "iopub.status.idle": "2024-05-30T00:49:14.585230Z",
     "shell.execute_reply": "2024-05-30T00:49:14.583745Z"
    },
    "papermill": {
     "duration": 0.270903,
     "end_time": "2024-05-30T00:49:14.588099",
     "exception": false,
     "start_time": "2024-05-30T00:49:14.317196",
     "status": "completed"
    },
    "tags": []
   },
   "outputs": [
    {
     "name": "stdout",
     "output_type": "stream",
     "text": [
      "0.868744812503325\n"
     ]
    }
   ],
   "source": [
    "yhat_cat = catboost_model.predict(X_val)\n",
    "print(r2_score(y_val, yhat_cat))"
   ]
  },
  {
   "cell_type": "code",
   "execution_count": 10,
   "id": "3951fe85",
   "metadata": {
    "execution": {
     "iopub.execute_input": "2024-05-30T00:49:14.601992Z",
     "iopub.status.busy": "2024-05-30T00:49:14.601585Z",
     "iopub.status.idle": "2024-05-30T00:49:14.612675Z",
     "shell.execute_reply": "2024-05-30T00:49:14.611418Z"
    },
    "papermill": {
     "duration": 0.020955,
     "end_time": "2024-05-30T00:49:14.615147",
     "exception": false,
     "start_time": "2024-05-30T00:49:14.594192",
     "status": "completed"
    },
    "tags": []
   },
   "outputs": [
    {
     "name": "stdout",
     "output_type": "stream",
     "text": [
      "0.868744812503325\n"
     ]
    }
   ],
   "source": [
    "bag_model_yhat = (yhat + yhat_cat) / 2.0\n",
    "print(r2_score(y_val, yhat_cat))"
   ]
  },
  {
   "cell_type": "markdown",
   "id": "87ad6694",
   "metadata": {
    "papermill": {
     "duration": 0.005877,
     "end_time": "2024-05-30T00:49:14.627147",
     "exception": false,
     "start_time": "2024-05-30T00:49:14.621270",
     "status": "completed"
    },
    "tags": []
   },
   "source": [
    "### Submission"
   ]
  },
  {
   "cell_type": "code",
   "execution_count": 11,
   "id": "ee166533",
   "metadata": {
    "execution": {
     "iopub.execute_input": "2024-05-30T00:49:14.640288Z",
     "iopub.status.busy": "2024-05-30T00:49:14.639901Z",
     "iopub.status.idle": "2024-05-30T00:50:25.559618Z",
     "shell.execute_reply": "2024-05-30T00:50:25.558454Z"
    },
    "papermill": {
     "duration": 70.92942,
     "end_time": "2024-05-30T00:50:25.562380",
     "exception": false,
     "start_time": "2024-05-30T00:49:14.632960",
     "status": "completed"
    },
    "tags": []
   },
   "outputs": [
    {
     "name": "stdout",
     "output_type": "stream",
     "text": [
      "id,FloodProbability\r\n",
      "1117957,0.5781638513513134\r\n",
      "1117958,0.4535679258646477\r\n",
      "1117959,0.4482374327486966\r\n",
      "1117960,0.46976291946352733\r\n",
      "1117961,0.4697024333929305\r\n",
      "1117962,0.5080146686610356\r\n",
      "1117963,0.5348359580314328\r\n",
      "1117964,0.5281182878772168\r\n",
      "1117965,0.47398988774585726\r\n"
     ]
    }
   ],
   "source": [
    "submission = pd.read_csv(submission_path)\n",
    "preds = lgbm_model.predict(test_df)\n",
    "submission['FloodProbability'] = preds\n",
    "submission.to_csv('submission.csv', index=False)\n",
    "!head submission.csv"
   ]
  },
  {
   "cell_type": "code",
   "execution_count": null,
   "id": "e15031bb",
   "metadata": {
    "papermill": {
     "duration": 0.00525,
     "end_time": "2024-05-30T00:50:25.573183",
     "exception": false,
     "start_time": "2024-05-30T00:50:25.567933",
     "status": "completed"
    },
    "tags": []
   },
   "outputs": [],
   "source": []
  }
 ],
 "metadata": {
  "kaggle": {
   "accelerator": "nvidiaTeslaT4",
   "dataSources": [
    {
     "databundleVersionId": 8121328,
     "sourceId": 73278,
     "sourceType": "competition"
    }
   ],
   "dockerImageVersionId": 30698,
   "isGpuEnabled": true,
   "isInternetEnabled": true,
   "language": "python",
   "sourceType": "notebook"
  },
  "kernelspec": {
   "display_name": "Python 3",
   "language": "python",
   "name": "python3"
  },
  "language_info": {
   "codemirror_mode": {
    "name": "ipython",
    "version": 3
   },
   "file_extension": ".py",
   "mimetype": "text/x-python",
   "name": "python",
   "nbconvert_exporter": "python",
   "pygments_lexer": "ipython3",
   "version": "3.10.13"
  },
  "papermill": {
   "default_parameters": {},
   "duration": 452.106808,
   "end_time": "2024-05-30T00:50:26.501296",
   "environment_variables": {},
   "exception": null,
   "input_path": "__notebook__.ipynb",
   "output_path": "__notebook__.ipynb",
   "parameters": {},
   "start_time": "2024-05-30T00:42:54.394488",
   "version": "2.5.0"
  }
 },
 "nbformat": 4,
 "nbformat_minor": 5
}
